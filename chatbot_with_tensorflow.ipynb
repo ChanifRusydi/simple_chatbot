{
 "cells": [
  {
   "cell_type": "markdown",
   "metadata": {},
   "source": [
    "\n",
    "[![Open In Colab](https://colab.research.google.com/assets/colab-badge.svg)](https://colab.research.google.com/github/ChanifRusydi/simple_chatbot/blob/main/chatbot_with_tensorflow.ipynb"
   ]
  },
  {
   "cell_type": "code",
   "execution_count": null,
   "metadata": {},
   "outputs": [],
   "source": [
    "!pip install nltk\n",
    "!pip install tensorflow-gpu"
   ]
  },
  {
   "cell_type": "code",
   "execution_count": null,
   "metadata": {},
   "outputs": [],
   "source": [
    "from nltk.stem import WordNetLemmatize\n",
    "import json\n",
    "import pickle\n",
    "import numpy as np\n",
    "import tensorflow as tf\n"
   ]
  },
  {
   "cell_type": "code",
   "execution_count": null,
   "metadata": {},
   "outputs": [],
   "source": [
    "ignore_symbols=['?','!']\n",
    "intents_json=json.loads(open('intents.json').read())\n",
    "words=[]\n",
    "classes=[]\n",
    "documents=[]\n",
    "\n",
    "for intent in intents_json['intents']:\n",
    "    for j in intent['tags']:\n",
    "        word=nltk.word_tokenize(j)\n",
    "        words.extend(word)\n",
    "        documents.append((word,intent['tag']))\n",
    "        if intent['tag'] not in classes:\n",
    "            classes.append(intent['tag'])\n",
    "\n",
    "words=[lemmetizer.lemmatize(w.lower()) for w in words if w not in ignore_symbols]\n",
    "words=sorted(list(set(words)))\n",
    "classes=sorted(list(set(classes)))"
   ]
  },
  {
   "cell_type": "code",
   "execution_count": null,
   "metadata": {},
   "outputs": [],
   "source": [
    "training=[]\n",
    "output=[0]*len(classes)\n",
    "for document in  documents:\n",
    "    word=[]\n",
    "    pattern=document[0]\n",
    "    pattern=[lemmetizer.lemmatize(w.lower()) for w in pattern]\n",
    "    for w in words:\n",
    "        word.append(1 if w in pattern else 0)\n",
    "    output_row=list(output)\n",
    "    output_row[classes.index(document[1])]=1\n",
    "    training.append([word,output_row])"
   ]
  },
  {
   "cell_type": "code",
   "execution_count": null,
   "metadata": {},
   "outputs": [],
   "source": [
    "training=np.array(training)\n",
    "train_x=training[:,0]\n",
    "train_y=training[:,1]\n",
    "train_x"
   ]
  },
  {
   "cell_type": "code",
   "execution_count": null,
   "metadata": {},
   "outputs": [],
   "source": [
    "train_y"
   ]
  },
  {
   "cell_type": "code",
   "execution_count": null,
   "metadata": {},
   "outputs": [],
   "source": [
    "model=tf.keras.model.Sequential()\n",
    "model.add(tf.keras.layers.Embedding(len(words),8))\n",
    "model.add(tf.keras.layers.Bidirectional(tf.keras.layers.LSTM(64,return_sequences=True)))\n",
    "model.add(tf.keras.layers.Bidirectional(tf.keras.layers.LSTM(64)))\n",
    "model.add(tf.keras.layers.Dense(128, input_shape=(len(train_x[0]),), activation='relu'))\n",
    "model.add(tf.keras.layers.Dense(len(train_y[0]),activation='softmax'))"
   ]
  },
  {
   "cell_type": "code",
   "execution_count": null,
   "metadata": {},
   "outputs": [],
   "source": [
    "model.compile(loss='categorical_crossentropy',optimizer=tf.keras.optimizers.SGD(learning_rate=0.001),metrics=['accuracy'])"
   ]
  },
  {
   "cell_type": "code",
   "execution_count": null,
   "metadata": {},
   "outputs": [],
   "source": [
    "history=model.fit(np.array(training),epochs=200,batch_size=5,validation_split=0.1)"
   ]
  },
  {
   "cell_type": "code",
   "execution_count": null,
   "metadata": {},
   "outputs": [],
   "source": [
    "model.save('chatbot_model.h5')"
   ]
  }
 ],
 "metadata": {
  "language_info": {
   "name": "python"
  },
  "orig_nbformat": 4
 },
 "nbformat": 4,
 "nbformat_minor": 2
}
