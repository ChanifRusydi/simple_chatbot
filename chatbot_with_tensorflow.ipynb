{
 "cells": [
  {
   "cell_type": "markdown",
   "metadata": {},
   "source": [
    "\n",
    "[![Open In Colab](https://colab.research.google.com/assets/colab-badge.svg)](https://colab.research.google.com/github/ChanifRusydi/simple_chatbot/blob/main/chatbot_with_tensorflow.ipynb"
   ]
  },
  {
   "cell_type": "code",
   "execution_count": 2,
   "metadata": {},
   "outputs": [
    {
     "name": "stdout",
     "output_type": "stream",
     "text": [
      "Requirement already satisfied: nltk in /Users/chanifrusydi/miniforge3/lib/python3.9/site-packages (3.7)\n",
      "Requirement already satisfied: joblib in /Users/chanifrusydi/miniforge3/lib/python3.9/site-packages (from nltk) (1.1.0)\n",
      "Requirement already satisfied: tqdm in /Users/chanifrusydi/miniforge3/lib/python3.9/site-packages (from nltk) (4.62.3)\n",
      "Requirement already satisfied: click in /Users/chanifrusydi/miniforge3/lib/python3.9/site-packages (from nltk) (8.0.3)\n",
      "Requirement already satisfied: regex>=2021.8.3 in /Users/chanifrusydi/miniforge3/lib/python3.9/site-packages (from nltk) (2022.4.24)\n"
     ]
    }
   ],
   "source": [
    "!pip install nltk\n"
   ]
  },
  {
   "cell_type": "code",
   "execution_count": 3,
   "metadata": {},
   "outputs": [],
   "source": [
    "import nltk\n",
    "from nltk.stem import WordNetLemmatizer\n",
    "import json\n",
    "import pickle\n",
    "import numpy as np\n",
    "import tensorflow as tf\n",
    "import pandas as pd"
   ]
  },
  {
   "cell_type": "code",
   "execution_count": 4,
   "metadata": {},
   "outputs": [
    {
     "name": "stderr",
     "output_type": "stream",
     "text": [
      "[nltk_data] Downloading package punkt to\n",
      "[nltk_data]     /Users/chanifrusydi/nltk_data...\n",
      "[nltk_data]   Package punkt is already up-to-date!\n"
     ]
    },
    {
     "data": {
      "text/plain": [
       "True"
      ]
     },
     "execution_count": 4,
     "metadata": {},
     "output_type": "execute_result"
    }
   ],
   "source": [
    "nltk.download('punkt')"
   ]
  },
  {
   "cell_type": "code",
   "execution_count": 5,
   "metadata": {},
   "outputs": [
    {
     "name": "stderr",
     "output_type": "stream",
     "text": [
      "[nltk_data] Downloading package wordnet to\n",
      "[nltk_data]     /Users/chanifrusydi/nltk_data...\n",
      "[nltk_data]   Package wordnet is already up-to-date!\n"
     ]
    },
    {
     "data": {
      "text/plain": [
       "True"
      ]
     },
     "execution_count": 5,
     "metadata": {},
     "output_type": "execute_result"
    }
   ],
   "source": [
    "nltk.download('wordnet')"
   ]
  },
  {
   "cell_type": "code",
   "execution_count": 6,
   "metadata": {},
   "outputs": [
    {
     "name": "stderr",
     "output_type": "stream",
     "text": [
      "[nltk_data] Downloading package omw-1.4 to\n",
      "[nltk_data]     /Users/chanifrusydi/nltk_data...\n",
      "[nltk_data]   Package omw-1.4 is already up-to-date!\n"
     ]
    },
    {
     "data": {
      "text/plain": [
       "True"
      ]
     },
     "execution_count": 6,
     "metadata": {},
     "output_type": "execute_result"
    }
   ],
   "source": [
    "nltk.download('omw-1.4')"
   ]
  },
  {
   "cell_type": "code",
   "execution_count": 7,
   "metadata": {},
   "outputs": [],
   "source": [
    "ignore_symbols=['?','!']\n",
    "intents_json=json.loads(open('intents.json').read())\n",
    "words=[]\n",
    "classes=[]\n",
    "documents=[]\n",
    "lemmetizer=WordNetLemmatizer()\n",
    "for intent in intents_json['intents']:\n",
    "    for j in intent['tag']:\n",
    "        word=nltk.word_tokenize(j)\n",
    "        words.extend(word)\n",
    "        documents.append((word,intent['tag']))\n",
    "        if intent['tag'] not in classes:\n",
    "            classes.append(intent['tag'])\n",
    "\n",
    "words=[lemmetizer.lemmatize(w.lower()) for w in words if w not in ignore_symbols]\n",
    "words=sorted(list(set(words)))\n",
    "classes=sorted(list(set(classes)))"
   ]
  },
  {
   "cell_type": "code",
   "execution_count": 8,
   "metadata": {},
   "outputs": [],
   "source": [
    "training=[]\n",
    "output=[]\n",
    "for document in documents:\n",
    "    bag=[]\n",
    "    pattern_words=document[0]\n",
    "    pattern_words=[lemmetizer.lemmatize(word.lower()) for word in pattern_words]\n",
    "    for w in words:\n",
    "        bag.append(1) if w in pattern_words else bag.append(0)\n",
    "    output_row=[0]*len(classes)\n",
    "    output_row[classes.index(document[1])]=1\n",
    "    training.append([bag,output_row])"
   ]
  },
  {
   "cell_type": "code",
   "execution_count": 10,
   "metadata": {},
   "outputs": [],
   "source": [
    "import random\n",
    "random.shuffle(training)\n",
    "training=np.array(training,dtype=object)"
   ]
  },
  {
   "cell_type": "code",
   "execution_count": 11,
   "metadata": {},
   "outputs": [],
   "source": [
    "train_x=list(training[:,0])\n",
    "train_y=list(training[:,1])"
   ]
  },
  {
   "cell_type": "code",
   "execution_count": 12,
   "metadata": {},
   "outputs": [
    {
     "data": {
      "text/plain": [
       "[[1, 0, 0, 0, 0, 0, 0, 0, 0, 0, 0, 0, 0, 0, 0, 0, 0, 0, 0, 0, 0],\n",
       " [0, 0, 0, 0, 0, 0, 0, 0, 0, 0, 0, 0, 1, 0, 0, 0, 0, 0, 0, 0, 0],\n",
       " [0, 0, 0, 0, 0, 0, 0, 0, 0, 0, 0, 0, 1, 0, 0, 0, 0, 0, 0, 0, 0],\n",
       " [0, 0, 0, 0, 0, 0, 0, 1, 0, 0, 0, 0, 0, 0, 0, 0, 0, 0, 0, 0, 0],\n",
       " [0, 0, 0, 0, 0, 0, 0, 1, 0, 0, 0, 0, 0, 0, 0, 0, 0, 0, 0, 0, 0],\n",
       " [0, 0, 0, 0, 0, 0, 0, 1, 0, 0, 0, 0, 0, 0, 0, 0, 0, 0, 0, 0, 0],\n",
       " [0, 0, 0, 0, 0, 0, 0, 0, 0, 0, 0, 0, 1, 0, 0, 0, 0, 0, 0, 0, 0],\n",
       " [0, 0, 0, 0, 0, 0, 0, 0, 0, 1, 0, 0, 0, 0, 0, 0, 0, 0, 0, 0, 0],\n",
       " [0, 0, 1, 0, 0, 0, 0, 0, 0, 0, 0, 0, 0, 0, 0, 0, 0, 0, 0, 0, 0],\n",
       " [0, 0, 0, 0, 0, 0, 0, 0, 0, 0, 0, 0, 1, 0, 0, 0, 0, 0, 0, 0, 0],\n",
       " [0, 0, 0, 0, 0, 0, 0, 0, 0, 0, 0, 0, 1, 0, 0, 0, 0, 0, 0, 0, 0],\n",
       " [0, 0, 0, 0, 0, 0, 0, 0, 0, 0, 0, 0, 1, 0, 0, 0, 0, 0, 0, 0, 0],\n",
       " [0, 0, 1, 0, 0, 0, 0, 0, 0, 0, 0, 0, 0, 0, 0, 0, 0, 0, 0, 0, 0],\n",
       " [0, 0, 0, 0, 0, 0, 0, 0, 0, 0, 0, 0, 1, 0, 0, 0, 0, 0, 0, 0, 0],\n",
       " [0, 0, 0, 0, 0, 0, 0, 0, 0, 0, 0, 0, 1, 0, 0, 0, 0, 0, 0, 0, 0],\n",
       " [0, 0, 0, 0, 0, 0, 0, 0, 0, 0, 0, 0, 1, 0, 0, 0, 0, 0, 0, 0, 0],\n",
       " [0, 0, 0, 0, 0, 0, 0, 0, 0, 0, 0, 0, 1, 0, 0, 0, 0, 0, 0, 0, 0],\n",
       " [1, 0, 0, 0, 0, 0, 0, 0, 0, 0, 0, 0, 0, 0, 0, 0, 0, 0, 0, 0, 0],\n",
       " [0, 0, 1, 0, 0, 0, 0, 0, 0, 0, 0, 0, 0, 0, 0, 0, 0, 0, 0, 0, 0],\n",
       " [0, 0, 0, 0, 0, 0, 0, 0, 0, 0, 0, 0, 0, 0, 0, 0, 0, 0, 0, 1, 0],\n",
       " [0, 0, 0, 0, 0, 0, 0, 0, 0, 0, 0, 0, 0, 0, 0, 0, 0, 0, 0, 0, 0],\n",
       " [0, 0, 0, 0, 0, 0, 0, 0, 0, 0, 0, 0, 1, 0, 0, 0, 0, 0, 0, 0, 0],\n",
       " [0, 0, 0, 0, 0, 0, 0, 1, 0, 0, 0, 0, 0, 0, 0, 0, 0, 0, 0, 0, 0],\n",
       " [0, 0, 0, 0, 0, 0, 0, 0, 0, 0, 0, 0, 1, 0, 0, 0, 0, 0, 0, 0, 0],\n",
       " [0, 0, 0, 0, 0, 0, 0, 0, 0, 0, 0, 0, 0, 0, 0, 1, 0, 0, 0, 0, 0],\n",
       " [0, 0, 0, 0, 0, 0, 0, 0, 0, 0, 0, 0, 0, 0, 0, 0, 1, 0, 0, 0, 0],\n",
       " [0, 0, 0, 0, 0, 0, 0, 0, 0, 0, 0, 0, 0, 0, 0, 1, 0, 0, 0, 0, 0],\n",
       " [0, 0, 0, 0, 0, 0, 0, 0, 0, 0, 0, 0, 0, 0, 0, 1, 0, 0, 0, 0, 0],\n",
       " [0, 0, 0, 0, 1, 0, 0, 0, 0, 0, 0, 0, 0, 0, 0, 0, 0, 0, 0, 0, 0],\n",
       " [0, 0, 0, 0, 0, 0, 0, 0, 0, 0, 0, 1, 0, 0, 0, 0, 0, 0, 0, 0, 0],\n",
       " [0, 0, 0, 0, 0, 0, 0, 0, 0, 0, 0, 0, 1, 0, 0, 0, 0, 0, 0, 0, 0],\n",
       " [0, 0, 0, 0, 0, 0, 0, 0, 0, 0, 0, 0, 0, 0, 0, 0, 0, 0, 0, 0, 0],\n",
       " [0, 0, 0, 0, 0, 0, 0, 0, 0, 0, 0, 0, 0, 0, 0, 1, 0, 0, 0, 0, 0],\n",
       " [0, 0, 0, 0, 0, 0, 0, 0, 0, 0, 0, 0, 0, 0, 0, 0, 0, 0, 0, 1, 0],\n",
       " [0, 0, 0, 0, 0, 0, 0, 0, 0, 0, 0, 0, 0, 0, 0, 1, 0, 0, 0, 0, 0],\n",
       " [0, 0, 0, 0, 0, 0, 0, 0, 0, 0, 0, 0, 0, 0, 0, 0, 0, 0, 0, 0, 0],\n",
       " [0, 0, 0, 0, 0, 0, 0, 0, 0, 0, 0, 0, 0, 0, 0, 0, 0, 0, 0, 0, 0],\n",
       " [0, 0, 0, 0, 0, 0, 0, 0, 1, 0, 0, 0, 0, 0, 0, 0, 0, 0, 0, 0, 0],\n",
       " [0, 0, 0, 0, 0, 0, 0, 0, 0, 0, 0, 0, 0, 0, 1, 0, 0, 0, 0, 0, 0],\n",
       " [0, 0, 0, 0, 0, 0, 0, 0, 0, 0, 0, 0, 0, 1, 0, 0, 0, 0, 0, 0, 0],\n",
       " [0, 0, 0, 0, 0, 0, 0, 0, 0, 0, 0, 0, 0, 0, 0, 0, 0, 0, 0, 1, 0],\n",
       " [0, 0, 0, 0, 0, 0, 0, 0, 0, 0, 0, 0, 0, 0, 0, 0, 0, 0, 0, 0, 0],\n",
       " [0, 0, 0, 0, 0, 0, 0, 0, 0, 0, 0, 0, 0, 0, 0, 1, 0, 0, 0, 0, 0],\n",
       " [1, 0, 0, 0, 0, 0, 0, 0, 0, 0, 0, 0, 0, 0, 0, 0, 0, 0, 0, 0, 0],\n",
       " [0, 0, 0, 0, 0, 0, 0, 0, 1, 0, 0, 0, 0, 0, 0, 0, 0, 0, 0, 0, 0],\n",
       " [0, 0, 0, 0, 0, 0, 0, 0, 0, 0, 0, 0, 0, 0, 0, 0, 0, 0, 0, 0, 0],\n",
       " [0, 0, 0, 0, 0, 0, 0, 0, 0, 0, 0, 0, 0, 0, 0, 1, 0, 0, 0, 0, 0],\n",
       " [0, 0, 0, 0, 0, 0, 0, 0, 1, 0, 0, 0, 0, 0, 0, 0, 0, 0, 0, 0, 0],\n",
       " [0, 0, 0, 1, 0, 0, 0, 0, 0, 0, 0, 0, 0, 0, 0, 0, 0, 0, 0, 0, 0],\n",
       " [0, 0, 0, 0, 0, 0, 0, 0, 0, 0, 0, 0, 0, 0, 1, 0, 0, 0, 0, 0, 0],\n",
       " [0, 0, 0, 0, 0, 0, 0, 0, 0, 0, 0, 0, 0, 0, 0, 0, 0, 0, 1, 0, 0],\n",
       " [0, 0, 0, 0, 0, 0, 0, 0, 0, 0, 0, 0, 0, 0, 0, 0, 0, 0, 0, 0, 0],\n",
       " [0, 0, 0, 0, 0, 0, 0, 0, 0, 0, 0, 0, 1, 0, 0, 0, 0, 0, 0, 0, 0],\n",
       " [0, 0, 0, 0, 1, 0, 0, 0, 0, 0, 0, 0, 0, 0, 0, 0, 0, 0, 0, 0, 0],\n",
       " [0, 0, 0, 0, 0, 0, 0, 0, 0, 0, 0, 0, 1, 0, 0, 0, 0, 0, 0, 0, 0],\n",
       " [1, 0, 0, 0, 0, 0, 0, 0, 0, 0, 0, 0, 0, 0, 0, 0, 0, 0, 0, 0, 0],\n",
       " [0, 0, 0, 0, 0, 0, 0, 0, 0, 0, 1, 0, 0, 0, 0, 0, 0, 0, 0, 0, 0],\n",
       " [1, 0, 0, 0, 0, 0, 0, 0, 0, 0, 0, 0, 0, 0, 0, 0, 0, 0, 0, 0, 0],\n",
       " [0, 0, 0, 0, 0, 0, 0, 0, 0, 0, 0, 0, 0, 0, 0, 0, 0, 0, 0, 0, 0],\n",
       " [0, 0, 0, 0, 1, 0, 0, 0, 0, 0, 0, 0, 0, 0, 0, 0, 0, 0, 0, 0, 0],\n",
       " [0, 0, 0, 0, 0, 0, 0, 0, 0, 0, 0, 0, 0, 0, 0, 0, 1, 0, 0, 0, 0],\n",
       " [0, 0, 0, 0, 0, 0, 0, 0, 0, 0, 1, 0, 0, 0, 0, 0, 0, 0, 0, 0, 0],\n",
       " [0, 0, 0, 0, 0, 0, 0, 0, 0, 0, 0, 0, 0, 1, 0, 0, 0, 0, 0, 0, 0],\n",
       " [0, 0, 0, 0, 0, 0, 0, 0, 0, 0, 0, 0, 1, 0, 0, 0, 0, 0, 0, 0, 0],\n",
       " [1, 0, 0, 0, 0, 0, 0, 0, 0, 0, 0, 0, 0, 0, 0, 0, 0, 0, 0, 0, 0],\n",
       " [0, 0, 0, 0, 0, 0, 0, 1, 0, 0, 0, 0, 0, 0, 0, 0, 0, 0, 0, 0, 0],\n",
       " [0, 0, 0, 0, 0, 0, 0, 0, 0, 0, 0, 0, 1, 0, 0, 0, 0, 0, 0, 0, 0],\n",
       " [0, 0, 0, 0, 0, 0, 0, 0, 0, 0, 0, 0, 0, 0, 0, 0, 0, 0, 0, 1, 0],\n",
       " [0, 0, 0, 0, 0, 0, 1, 0, 0, 0, 0, 0, 0, 0, 0, 0, 0, 0, 0, 0, 0],\n",
       " [0, 0, 0, 0, 0, 0, 0, 0, 0, 0, 0, 0, 1, 0, 0, 0, 0, 0, 0, 0, 0],\n",
       " [0, 0, 0, 0, 0, 0, 0, 0, 0, 0, 0, 0, 1, 0, 0, 0, 0, 0, 0, 0, 0],\n",
       " [0, 0, 0, 0, 1, 0, 0, 0, 0, 0, 0, 0, 0, 0, 0, 0, 0, 0, 0, 0, 0],\n",
       " [0, 0, 0, 0, 0, 0, 0, 0, 0, 0, 0, 0, 0, 1, 0, 0, 0, 0, 0, 0, 0],\n",
       " [0, 0, 0, 0, 0, 0, 0, 0, 0, 0, 0, 0, 0, 0, 0, 1, 0, 0, 0, 0, 0],\n",
       " [0, 0, 0, 0, 0, 0, 0, 0, 0, 0, 0, 0, 1, 0, 0, 0, 0, 0, 0, 0, 0],\n",
       " [1, 0, 0, 0, 0, 0, 0, 0, 0, 0, 0, 0, 0, 0, 0, 0, 0, 0, 0, 0, 0],\n",
       " [0, 0, 0, 0, 0, 0, 0, 0, 0, 0, 0, 0, 0, 1, 0, 0, 0, 0, 0, 0, 0],\n",
       " [0, 0, 0, 0, 0, 0, 0, 0, 0, 0, 0, 0, 0, 0, 0, 0, 0, 0, 0, 0, 0],\n",
       " [0, 0, 0, 0, 0, 0, 0, 0, 0, 0, 0, 0, 1, 0, 0, 0, 0, 0, 0, 0, 0],\n",
       " [0, 0, 0, 0, 0, 0, 0, 1, 0, 0, 0, 0, 0, 0, 0, 0, 0, 0, 0, 0, 0],\n",
       " [0, 0, 0, 0, 0, 0, 0, 0, 0, 1, 0, 0, 0, 0, 0, 0, 0, 0, 0, 0, 0],\n",
       " [0, 0, 0, 0, 0, 0, 0, 0, 0, 0, 0, 0, 0, 0, 0, 0, 0, 0, 0, 0, 0]]"
      ]
     },
     "execution_count": 12,
     "metadata": {},
     "output_type": "execute_result"
    }
   ],
   "source": [
    "train_x"
   ]
  },
  {
   "cell_type": "code",
   "execution_count": 13,
   "metadata": {},
   "outputs": [
    {
     "data": {
      "text/plain": [
       "[[0, 0, 0, 0, 0, 1, 0],\n",
       " [1, 0, 0, 0, 0, 0, 0],\n",
       " [1, 0, 0, 0, 0, 0, 0],\n",
       " [0, 0, 0, 0, 0, 0, 1],\n",
       " [0, 0, 0, 0, 0, 0, 1],\n",
       " [0, 0, 0, 0, 0, 0, 1],\n",
       " [0, 0, 0, 0, 0, 1, 0],\n",
       " [0, 0, 0, 0, 0, 1, 0],\n",
       " [1, 0, 0, 0, 0, 0, 0],\n",
       " [0, 0, 0, 0, 0, 1, 0],\n",
       " [1, 0, 0, 0, 0, 0, 0],\n",
       " [0, 0, 0, 0, 0, 1, 0],\n",
       " [1, 0, 0, 0, 0, 0, 0],\n",
       " [0, 1, 0, 0, 0, 0, 0],\n",
       " [0, 1, 0, 0, 0, 0, 0],\n",
       " [0, 1, 0, 0, 0, 0, 0],\n",
       " [0, 1, 0, 0, 0, 0, 0],\n",
       " [0, 0, 0, 0, 0, 1, 0],\n",
       " [1, 0, 0, 0, 0, 0, 0],\n",
       " [0, 0, 0, 0, 1, 0, 0],\n",
       " [1, 0, 0, 0, 0, 0, 0],\n",
       " [0, 1, 0, 0, 0, 0, 0],\n",
       " [0, 0, 0, 0, 0, 0, 1],\n",
       " [0, 1, 0, 0, 0, 0, 0],\n",
       " [0, 0, 0, 0, 0, 0, 1],\n",
       " [0, 0, 0, 0, 0, 1, 0],\n",
       " [0, 0, 0, 1, 0, 0, 0],\n",
       " [0, 0, 0, 0, 0, 0, 1],\n",
       " [1, 0, 0, 0, 0, 0, 0],\n",
       " [0, 0, 0, 0, 0, 0, 1],\n",
       " [0, 1, 0, 0, 0, 0, 0],\n",
       " [0, 0, 0, 0, 0, 0, 1],\n",
       " [1, 0, 0, 0, 0, 0, 0],\n",
       " [0, 0, 0, 0, 0, 0, 1],\n",
       " [1, 0, 0, 0, 0, 0, 0],\n",
       " [0, 0, 0, 0, 1, 0, 0],\n",
       " [0, 0, 0, 0, 1, 0, 0],\n",
       " [0, 0, 0, 0, 0, 0, 1],\n",
       " [1, 0, 0, 0, 0, 0, 0],\n",
       " [0, 0, 0, 0, 1, 0, 0],\n",
       " [0, 0, 0, 0, 0, 0, 1],\n",
       " [0, 0, 0, 0, 0, 0, 1],\n",
       " [0, 0, 0, 0, 1, 0, 0],\n",
       " [0, 0, 0, 0, 0, 0, 1],\n",
       " [0, 1, 0, 0, 0, 0, 0],\n",
       " [1, 0, 0, 0, 0, 0, 0],\n",
       " [0, 0, 0, 0, 0, 0, 1],\n",
       " [0, 0, 0, 1, 0, 0, 0],\n",
       " [0, 0, 1, 0, 0, 0, 0],\n",
       " [1, 0, 0, 0, 0, 0, 0],\n",
       " [0, 0, 0, 0, 0, 0, 1],\n",
       " [1, 0, 0, 0, 0, 0, 0],\n",
       " [1, 0, 0, 0, 0, 0, 0],\n",
       " [0, 0, 0, 1, 0, 0, 0],\n",
       " [0, 1, 0, 0, 0, 0, 0],\n",
       " [0, 0, 0, 0, 0, 1, 0],\n",
       " [0, 1, 0, 0, 0, 0, 0],\n",
       " [0, 0, 0, 0, 0, 0, 1],\n",
       " [0, 0, 0, 0, 1, 0, 0],\n",
       " [0, 0, 0, 0, 1, 0, 0],\n",
       " [0, 0, 0, 0, 0, 0, 1],\n",
       " [0, 1, 0, 0, 0, 0, 0],\n",
       " [0, 0, 0, 0, 1, 0, 0],\n",
       " [0, 1, 0, 0, 0, 0, 0],\n",
       " [0, 1, 0, 0, 0, 0, 0],\n",
       " [0, 0, 0, 0, 0, 0, 1],\n",
       " [1, 0, 0, 0, 0, 0, 0],\n",
       " [0, 0, 0, 0, 1, 0, 0],\n",
       " [0, 1, 0, 0, 0, 0, 0],\n",
       " [1, 0, 0, 0, 0, 0, 0],\n",
       " [1, 0, 0, 0, 0, 0, 0],\n",
       " [0, 0, 0, 1, 0, 0, 0],\n",
       " [0, 0, 0, 0, 1, 0, 0],\n",
       " [1, 0, 0, 0, 0, 0, 0],\n",
       " [0, 0, 0, 1, 0, 0, 0],\n",
       " [0, 0, 0, 0, 0, 0, 1],\n",
       " [0, 0, 1, 0, 0, 0, 0],\n",
       " [0, 0, 0, 0, 0, 0, 1],\n",
       " [0, 1, 0, 0, 0, 0, 0],\n",
       " [0, 0, 0, 0, 1, 0, 0],\n",
       " [0, 0, 0, 0, 0, 1, 0],\n",
       " [0, 0, 0, 0, 1, 0, 0]]"
      ]
     },
     "execution_count": 13,
     "metadata": {},
     "output_type": "execute_result"
    }
   ],
   "source": [
    "train_y"
   ]
  },
  {
   "cell_type": "code",
   "execution_count": 14,
   "metadata": {},
   "outputs": [
    {
     "name": "stdout",
     "output_type": "stream",
     "text": [
      "Metal device set to: Apple M1\n",
      "\n",
      "systemMemory: 8.00 GB\n",
      "maxCacheSize: 2.67 GB\n",
      "\n"
     ]
    },
    {
     "name": "stderr",
     "output_type": "stream",
     "text": [
      "2022-05-10 11:52:18.818120: I tensorflow/core/common_runtime/pluggable_device/pluggable_device_factory.cc:305] Could not identify NUMA node of platform GPU ID 0, defaulting to 0. Your kernel may not have been built with NUMA support.\n",
      "2022-05-10 11:52:18.818496: I tensorflow/core/common_runtime/pluggable_device/pluggable_device_factory.cc:271] Created TensorFlow device (/job:localhost/replica:0/task:0/device:GPU:0 with 0 MB memory) -> physical PluggableDevice (device: 0, name: METAL, pci bus id: <undefined>)\n"
     ]
    }
   ],
   "source": [
    "model=tf.keras.Sequential()\n",
    "model.add(tf.keras.layers.InputLayer(input_shape=(None,)))\n",
    "model.add(tf.keras.layers.Embedding(len(words),8))\n",
    "model.add(tf.keras.layers.Bidirectional(tf.keras.layers.LSTM(64,return_sequences=True)))\n",
    "model.add(tf.keras.layers.Bidirectional(tf.keras.layers.LSTM(64)))\n",
    "model.add(tf.keras.layers.Dense(128, input_shape=(len(train_x[0]),), activation='relu'))\n",
    "model.add(tf.keras.layers.Dense(len(train_y[0]),activation='softmax'))"
   ]
  },
  {
   "cell_type": "code",
   "execution_count": 15,
   "metadata": {},
   "outputs": [],
   "source": [
    "model.compile(optimizer='sgd',loss='categorical_crossentropy',metrics=['accuracy'])"
   ]
  },
  {
   "cell_type": "code",
   "execution_count": 16,
   "metadata": {},
   "outputs": [
    {
     "name": "stdout",
     "output_type": "stream",
     "text": [
      "(None, None) <dtype: 'float32'>\n",
      "(None, 7) <dtype: 'float32'>\n"
     ]
    },
    {
     "data": {
      "text/plain": [
       "[None]"
      ]
     },
     "execution_count": 16,
     "metadata": {},
     "output_type": "execute_result"
    }
   ],
   "source": [
    "[print(i.shape, i.dtype) for i in model.inputs]\n",
    "[print(o.shape, o.dtype) for o in model.outputs]\n"
   ]
  },
  {
   "cell_type": "code",
   "execution_count": 17,
   "metadata": {},
   "outputs": [
    {
     "name": "stdout",
     "output_type": "stream",
     "text": [
      "embedding (None, None) float32\n",
      "bidirectional (None, None, 8) float32\n",
      "bidirectional_1 (None, None, 128) float32\n",
      "dense (None, 128) float32\n",
      "dense_1 (None, 128) float32\n"
     ]
    },
    {
     "data": {
      "text/plain": [
       "[None, None, None, None, None]"
      ]
     },
     "execution_count": 17,
     "metadata": {},
     "output_type": "execute_result"
    }
   ],
   "source": [
    "[print(l.name, l.input_shape, l.dtype) for l in model.layers]"
   ]
  },
  {
   "cell_type": "code",
   "execution_count": 18,
   "metadata": {},
   "outputs": [
    {
     "name": "stdout",
     "output_type": "stream",
     "text": [
      "Model: \"sequential\"\n",
      "_________________________________________________________________\n",
      " Layer (type)                Output Shape              Param #   \n",
      "=================================================================\n",
      " embedding (Embedding)       (None, None, 8)           168       \n",
      "                                                                 \n",
      " bidirectional (Bidirectiona  (None, None, 128)        37376     \n",
      " l)                                                              \n",
      "                                                                 \n",
      " bidirectional_1 (Bidirectio  (None, 128)              98816     \n",
      " nal)                                                            \n",
      "                                                                 \n",
      " dense (Dense)               (None, 128)               16512     \n",
      "                                                                 \n",
      " dense_1 (Dense)             (None, 7)                 903       \n",
      "                                                                 \n",
      "=================================================================\n",
      "Total params: 153,775\n",
      "Trainable params: 153,775\n",
      "Non-trainable params: 0\n",
      "_________________________________________________________________\n"
     ]
    }
   ],
   "source": [
    "model.summary()"
   ]
  },
  {
   "cell_type": "code",
   "execution_count": 21,
   "metadata": {},
   "outputs": [
    {
     "name": "stdout",
     "output_type": "stream",
     "text": [
      "Epoch 1/200\n"
     ]
    },
    {
     "name": "stderr",
     "output_type": "stream",
     "text": [
      "2022-05-10 11:53:36.900151: W tensorflow/core/platform/profile_utils/cpu_utils.cc:128] Failed to get CPU frequency: 0 Hz\n",
      "2022-05-10 11:53:39.167023: I tensorflow/core/grappler/optimizers/custom_graph_optimizer_registry.cc:113] Plugin optimizer for device_type GPU is enabled.\n",
      "2022-05-10 11:53:39.706668: I tensorflow/core/grappler/optimizers/custom_graph_optimizer_registry.cc:113] Plugin optimizer for device_type GPU is enabled.\n",
      "2022-05-10 11:53:39.717075: I tensorflow/core/grappler/optimizers/custom_graph_optimizer_registry.cc:113] Plugin optimizer for device_type GPU is enabled.\n",
      "2022-05-10 11:53:40.000679: I tensorflow/core/grappler/optimizers/custom_graph_optimizer_registry.cc:113] Plugin optimizer for device_type GPU is enabled.\n",
      "2022-05-10 11:53:40.011136: I tensorflow/core/grappler/optimizers/custom_graph_optimizer_registry.cc:113] Plugin optimizer for device_type GPU is enabled.\n",
      "2022-05-10 11:53:40.461162: I tensorflow/core/grappler/optimizers/custom_graph_optimizer_registry.cc:113] Plugin optimizer for device_type GPU is enabled.\n",
      "2022-05-10 11:53:40.477099: I tensorflow/core/grappler/optimizers/custom_graph_optimizer_registry.cc:113] Plugin optimizer for device_type GPU is enabled.\n",
      "2022-05-10 11:53:40.860293: I tensorflow/core/grappler/optimizers/custom_graph_optimizer_registry.cc:113] Plugin optimizer for device_type GPU is enabled.\n",
      "2022-05-10 11:53:40.877371: I tensorflow/core/grappler/optimizers/custom_graph_optimizer_registry.cc:113] Plugin optimizer for device_type GPU is enabled.\n"
     ]
    },
    {
     "name": "stdout",
     "output_type": "stream",
     "text": [
      "3/3 [==============================] - 5s 215ms/step - loss: 1.9436 - accuracy: 0.1951\n",
      "Epoch 2/200\n",
      "3/3 [==============================] - 0s 50ms/step - loss: 1.9391 - accuracy: 0.2439\n",
      "Epoch 3/200\n",
      "3/3 [==============================] - 0s 44ms/step - loss: 1.9353 - accuracy: 0.1585\n",
      "Epoch 4/200\n",
      "3/3 [==============================] - 0s 39ms/step - loss: 1.9306 - accuracy: 0.2439\n",
      "Epoch 5/200\n",
      "3/3 [==============================] - 0s 40ms/step - loss: 1.9266 - accuracy: 0.2439\n",
      "Epoch 6/200\n",
      "3/3 [==============================] - 0s 41ms/step - loss: 1.9228 - accuracy: 0.2439\n",
      "Epoch 7/200\n",
      "3/3 [==============================] - 0s 41ms/step - loss: 1.9192 - accuracy: 0.2439\n",
      "Epoch 8/200\n",
      "3/3 [==============================] - 0s 39ms/step - loss: 1.9149 - accuracy: 0.2439\n",
      "Epoch 9/200\n",
      "3/3 [==============================] - 0s 40ms/step - loss: 1.9114 - accuracy: 0.2439\n",
      "Epoch 10/200\n",
      "3/3 [==============================] - 0s 40ms/step - loss: 1.9081 - accuracy: 0.2439\n",
      "Epoch 11/200\n",
      "3/3 [==============================] - 0s 41ms/step - loss: 1.9047 - accuracy: 0.2439\n",
      "Epoch 12/200\n",
      "3/3 [==============================] - 0s 41ms/step - loss: 1.9013 - accuracy: 0.2439\n",
      "Epoch 13/200\n",
      "3/3 [==============================] - 0s 40ms/step - loss: 1.8984 - accuracy: 0.2439\n",
      "Epoch 14/200\n",
      "3/3 [==============================] - 0s 38ms/step - loss: 1.8955 - accuracy: 0.2439\n",
      "Epoch 15/200\n",
      "3/3 [==============================] - 0s 40ms/step - loss: 1.8924 - accuracy: 0.2439\n",
      "Epoch 16/200\n",
      "3/3 [==============================] - 0s 54ms/step - loss: 1.8897 - accuracy: 0.2439\n",
      "Epoch 17/200\n",
      "3/3 [==============================] - 0s 39ms/step - loss: 1.8862 - accuracy: 0.2439\n",
      "Epoch 18/200\n",
      "3/3 [==============================] - 0s 41ms/step - loss: 1.8835 - accuracy: 0.2439\n",
      "Epoch 19/200\n",
      "3/3 [==============================] - 0s 45ms/step - loss: 1.8810 - accuracy: 0.2439\n",
      "Epoch 20/200\n",
      "3/3 [==============================] - 0s 40ms/step - loss: 1.8785 - accuracy: 0.2439\n",
      "Epoch 21/200\n",
      "3/3 [==============================] - 0s 41ms/step - loss: 1.8757 - accuracy: 0.2439\n",
      "Epoch 22/200\n",
      "3/3 [==============================] - 0s 40ms/step - loss: 1.8736 - accuracy: 0.2439\n",
      "Epoch 23/200\n",
      "3/3 [==============================] - 0s 39ms/step - loss: 1.8708 - accuracy: 0.2439\n",
      "Epoch 24/200\n",
      "3/3 [==============================] - 0s 40ms/step - loss: 1.8682 - accuracy: 0.2439\n",
      "Epoch 25/200\n",
      "3/3 [==============================] - 0s 47ms/step - loss: 1.8658 - accuracy: 0.2439\n",
      "Epoch 26/200\n",
      "3/3 [==============================] - 0s 39ms/step - loss: 1.8638 - accuracy: 0.2439\n",
      "Epoch 27/200\n",
      "3/3 [==============================] - 0s 40ms/step - loss: 1.8615 - accuracy: 0.2439\n",
      "Epoch 28/200\n",
      "3/3 [==============================] - 0s 44ms/step - loss: 1.8597 - accuracy: 0.2439\n",
      "Epoch 29/200\n",
      "3/3 [==============================] - 0s 41ms/step - loss: 1.8574 - accuracy: 0.2439\n",
      "Epoch 30/200\n",
      "3/3 [==============================] - 0s 39ms/step - loss: 1.8554 - accuracy: 0.2439\n",
      "Epoch 31/200\n",
      "3/3 [==============================] - 0s 39ms/step - loss: 1.8536 - accuracy: 0.2439\n",
      "Epoch 32/200\n",
      "3/3 [==============================] - 0s 40ms/step - loss: 1.8516 - accuracy: 0.2439\n",
      "Epoch 33/200\n",
      "3/3 [==============================] - 0s 39ms/step - loss: 1.8498 - accuracy: 0.2439\n",
      "Epoch 34/200\n",
      "3/3 [==============================] - 0s 40ms/step - loss: 1.8478 - accuracy: 0.2439\n",
      "Epoch 35/200\n",
      "3/3 [==============================] - 0s 40ms/step - loss: 1.8460 - accuracy: 0.2439\n",
      "Epoch 36/200\n",
      "3/3 [==============================] - 0s 39ms/step - loss: 1.8441 - accuracy: 0.2439\n",
      "Epoch 37/200\n",
      "3/3 [==============================] - 0s 40ms/step - loss: 1.8421 - accuracy: 0.2439\n",
      "Epoch 38/200\n",
      "3/3 [==============================] - 0s 39ms/step - loss: 1.8408 - accuracy: 0.2439\n",
      "Epoch 39/200\n",
      "3/3 [==============================] - 0s 39ms/step - loss: 1.8392 - accuracy: 0.2439\n",
      "Epoch 40/200\n",
      "3/3 [==============================] - 0s 40ms/step - loss: 1.8378 - accuracy: 0.2439\n",
      "Epoch 41/200\n",
      "3/3 [==============================] - 0s 39ms/step - loss: 1.8363 - accuracy: 0.2439\n",
      "Epoch 42/200\n",
      "3/3 [==============================] - 0s 40ms/step - loss: 1.8345 - accuracy: 0.2439\n",
      "Epoch 43/200\n",
      "3/3 [==============================] - 0s 40ms/step - loss: 1.8330 - accuracy: 0.2439\n",
      "Epoch 44/200\n",
      "3/3 [==============================] - 0s 42ms/step - loss: 1.8319 - accuracy: 0.2439\n",
      "Epoch 45/200\n",
      "3/3 [==============================] - 0s 55ms/step - loss: 1.8302 - accuracy: 0.2439\n",
      "Epoch 46/200\n",
      "3/3 [==============================] - 0s 41ms/step - loss: 1.8292 - accuracy: 0.2439\n",
      "Epoch 47/200\n",
      "3/3 [==============================] - 0s 39ms/step - loss: 1.8282 - accuracy: 0.2439\n",
      "Epoch 48/200\n",
      "3/3 [==============================] - 0s 42ms/step - loss: 1.8263 - accuracy: 0.2439\n",
      "Epoch 49/200\n",
      "3/3 [==============================] - 0s 40ms/step - loss: 1.8251 - accuracy: 0.2439\n",
      "Epoch 50/200\n",
      "3/3 [==============================] - 0s 40ms/step - loss: 1.8239 - accuracy: 0.2439\n",
      "Epoch 51/200\n",
      "3/3 [==============================] - 0s 39ms/step - loss: 1.8228 - accuracy: 0.2439\n",
      "Epoch 52/200\n",
      "3/3 [==============================] - 0s 39ms/step - loss: 1.8224 - accuracy: 0.2439\n",
      "Epoch 53/200\n",
      "3/3 [==============================] - 0s 39ms/step - loss: 1.8214 - accuracy: 0.2439\n",
      "Epoch 54/200\n",
      "3/3 [==============================] - 0s 39ms/step - loss: 1.8197 - accuracy: 0.2439\n",
      "Epoch 55/200\n",
      "3/3 [==============================] - 0s 40ms/step - loss: 1.8187 - accuracy: 0.2439\n",
      "Epoch 56/200\n",
      "3/3 [==============================] - 0s 41ms/step - loss: 1.8178 - accuracy: 0.2439\n",
      "Epoch 57/200\n",
      "3/3 [==============================] - 0s 41ms/step - loss: 1.8170 - accuracy: 0.2439\n",
      "Epoch 58/200\n",
      "3/3 [==============================] - 0s 40ms/step - loss: 1.8163 - accuracy: 0.2439\n",
      "Epoch 59/200\n",
      "3/3 [==============================] - 0s 39ms/step - loss: 1.8152 - accuracy: 0.2439\n",
      "Epoch 60/200\n",
      "3/3 [==============================] - 0s 39ms/step - loss: 1.8144 - accuracy: 0.2439\n",
      "Epoch 61/200\n",
      "3/3 [==============================] - 0s 40ms/step - loss: 1.8138 - accuracy: 0.2439\n",
      "Epoch 62/200\n",
      "3/3 [==============================] - 0s 38ms/step - loss: 1.8132 - accuracy: 0.2439\n",
      "Epoch 63/200\n",
      "3/3 [==============================] - 0s 40ms/step - loss: 1.8122 - accuracy: 0.2439\n",
      "Epoch 64/200\n",
      "3/3 [==============================] - 0s 39ms/step - loss: 1.8114 - accuracy: 0.2439\n",
      "Epoch 65/200\n",
      "3/3 [==============================] - 0s 40ms/step - loss: 1.8107 - accuracy: 0.2439\n",
      "Epoch 66/200\n",
      "3/3 [==============================] - 0s 39ms/step - loss: 1.8107 - accuracy: 0.2439\n",
      "Epoch 67/200\n",
      "3/3 [==============================] - 0s 39ms/step - loss: 1.8095 - accuracy: 0.2439\n",
      "Epoch 68/200\n",
      "3/3 [==============================] - 0s 39ms/step - loss: 1.8086 - accuracy: 0.2439\n",
      "Epoch 69/200\n",
      "3/3 [==============================] - 0s 39ms/step - loss: 1.8081 - accuracy: 0.2439\n",
      "Epoch 70/200\n",
      "3/3 [==============================] - 0s 40ms/step - loss: 1.8077 - accuracy: 0.2439\n",
      "Epoch 71/200\n",
      "3/3 [==============================] - 0s 39ms/step - loss: 1.8067 - accuracy: 0.2439\n",
      "Epoch 72/200\n",
      "3/3 [==============================] - 0s 39ms/step - loss: 1.8064 - accuracy: 0.2439\n",
      "Epoch 73/200\n",
      "3/3 [==============================] - 0s 41ms/step - loss: 1.8055 - accuracy: 0.2439\n",
      "Epoch 74/200\n",
      "3/3 [==============================] - 0s 40ms/step - loss: 1.8048 - accuracy: 0.2439\n",
      "Epoch 75/200\n",
      "3/3 [==============================] - 0s 40ms/step - loss: 1.8044 - accuracy: 0.2439\n",
      "Epoch 76/200\n",
      "3/3 [==============================] - 0s 39ms/step - loss: 1.8040 - accuracy: 0.2439\n",
      "Epoch 77/200\n",
      "3/3 [==============================] - 0s 39ms/step - loss: 1.8030 - accuracy: 0.2439\n",
      "Epoch 78/200\n",
      "3/3 [==============================] - 0s 40ms/step - loss: 1.8029 - accuracy: 0.2439\n",
      "Epoch 79/200\n",
      "3/3 [==============================] - 0s 40ms/step - loss: 1.8021 - accuracy: 0.2439\n",
      "Epoch 80/200\n",
      "3/3 [==============================] - 0s 41ms/step - loss: 1.8018 - accuracy: 0.2439\n",
      "Epoch 81/200\n",
      "3/3 [==============================] - 0s 42ms/step - loss: 1.8012 - accuracy: 0.2439\n",
      "Epoch 82/200\n",
      "3/3 [==============================] - 0s 38ms/step - loss: 1.8009 - accuracy: 0.2439\n",
      "Epoch 83/200\n",
      "3/3 [==============================] - 0s 40ms/step - loss: 1.8004 - accuracy: 0.2439\n",
      "Epoch 84/200\n",
      "3/3 [==============================] - 0s 40ms/step - loss: 1.7997 - accuracy: 0.2439\n",
      "Epoch 85/200\n",
      "3/3 [==============================] - 0s 39ms/step - loss: 1.7992 - accuracy: 0.2439\n",
      "Epoch 86/200\n",
      "3/3 [==============================] - 0s 40ms/step - loss: 1.7994 - accuracy: 0.2439\n",
      "Epoch 87/200\n",
      "3/3 [==============================] - 0s 40ms/step - loss: 1.7981 - accuracy: 0.2439\n",
      "Epoch 88/200\n",
      "3/3 [==============================] - 0s 39ms/step - loss: 1.7980 - accuracy: 0.2439\n",
      "Epoch 89/200\n",
      "3/3 [==============================] - 0s 39ms/step - loss: 1.7974 - accuracy: 0.2439\n",
      "Epoch 90/200\n",
      "3/3 [==============================] - 0s 38ms/step - loss: 1.7971 - accuracy: 0.2439\n",
      "Epoch 91/200\n",
      "3/3 [==============================] - 0s 40ms/step - loss: 1.7964 - accuracy: 0.2439\n",
      "Epoch 92/200\n",
      "3/3 [==============================] - 0s 39ms/step - loss: 1.7966 - accuracy: 0.2439\n",
      "Epoch 93/200\n",
      "3/3 [==============================] - 0s 38ms/step - loss: 1.7961 - accuracy: 0.2439\n",
      "Epoch 94/200\n",
      "3/3 [==============================] - 0s 40ms/step - loss: 1.7956 - accuracy: 0.2439\n",
      "Epoch 95/200\n",
      "3/3 [==============================] - 0s 41ms/step - loss: 1.7954 - accuracy: 0.2439\n",
      "Epoch 96/200\n",
      "3/3 [==============================] - 0s 41ms/step - loss: 1.7950 - accuracy: 0.2439\n",
      "Epoch 97/200\n",
      "3/3 [==============================] - 0s 54ms/step - loss: 1.7952 - accuracy: 0.2439\n",
      "Epoch 98/200\n",
      "3/3 [==============================] - 0s 40ms/step - loss: 1.7946 - accuracy: 0.2439\n",
      "Epoch 99/200\n",
      "3/3 [==============================] - 0s 39ms/step - loss: 1.7941 - accuracy: 0.2439\n",
      "Epoch 100/200\n",
      "3/3 [==============================] - 0s 41ms/step - loss: 1.7937 - accuracy: 0.2439\n",
      "Epoch 101/200\n",
      "3/3 [==============================] - 0s 40ms/step - loss: 1.7933 - accuracy: 0.2439\n",
      "Epoch 102/200\n",
      "3/3 [==============================] - 0s 40ms/step - loss: 1.7936 - accuracy: 0.2439\n",
      "Epoch 103/200\n",
      "3/3 [==============================] - 0s 40ms/step - loss: 1.7927 - accuracy: 0.2439\n",
      "Epoch 104/200\n",
      "3/3 [==============================] - 0s 42ms/step - loss: 1.7927 - accuracy: 0.2439\n",
      "Epoch 105/200\n",
      "3/3 [==============================] - 0s 42ms/step - loss: 1.7924 - accuracy: 0.2439\n",
      "Epoch 106/200\n",
      "3/3 [==============================] - 0s 41ms/step - loss: 1.7923 - accuracy: 0.2439\n",
      "Epoch 107/200\n",
      "3/3 [==============================] - 0s 45ms/step - loss: 1.7915 - accuracy: 0.2439\n",
      "Epoch 108/200\n",
      "3/3 [==============================] - 0s 40ms/step - loss: 1.7916 - accuracy: 0.2439\n",
      "Epoch 109/200\n",
      "3/3 [==============================] - 0s 40ms/step - loss: 1.7910 - accuracy: 0.2439\n",
      "Epoch 110/200\n",
      "3/3 [==============================] - 0s 39ms/step - loss: 1.7910 - accuracy: 0.2439\n",
      "Epoch 111/200\n",
      "3/3 [==============================] - 0s 42ms/step - loss: 1.7909 - accuracy: 0.2439\n",
      "Epoch 112/200\n",
      "3/3 [==============================] - 0s 42ms/step - loss: 1.7908 - accuracy: 0.2439\n",
      "Epoch 113/200\n",
      "3/3 [==============================] - 0s 40ms/step - loss: 1.7902 - accuracy: 0.2439\n",
      "Epoch 114/200\n",
      "3/3 [==============================] - 0s 40ms/step - loss: 1.7906 - accuracy: 0.2439\n",
      "Epoch 115/200\n",
      "3/3 [==============================] - 0s 39ms/step - loss: 1.7895 - accuracy: 0.2439\n",
      "Epoch 116/200\n",
      "3/3 [==============================] - 0s 39ms/step - loss: 1.7893 - accuracy: 0.2439\n",
      "Epoch 117/200\n",
      "3/3 [==============================] - 0s 39ms/step - loss: 1.7894 - accuracy: 0.2439\n",
      "Epoch 118/200\n",
      "3/3 [==============================] - 0s 40ms/step - loss: 1.7891 - accuracy: 0.2439\n",
      "Epoch 119/200\n",
      "3/3 [==============================] - 0s 39ms/step - loss: 1.7889 - accuracy: 0.2439\n",
      "Epoch 120/200\n",
      "3/3 [==============================] - 0s 38ms/step - loss: 1.7886 - accuracy: 0.2439\n",
      "Epoch 121/200\n",
      "3/3 [==============================] - 0s 39ms/step - loss: 1.7884 - accuracy: 0.2439\n",
      "Epoch 122/200\n",
      "3/3 [==============================] - 0s 39ms/step - loss: 1.7886 - accuracy: 0.2439\n",
      "Epoch 123/200\n",
      "3/3 [==============================] - 0s 40ms/step - loss: 1.7885 - accuracy: 0.2439\n",
      "Epoch 124/200\n",
      "3/3 [==============================] - 0s 39ms/step - loss: 1.7881 - accuracy: 0.2439\n",
      "Epoch 125/200\n",
      "3/3 [==============================] - 0s 39ms/step - loss: 1.7875 - accuracy: 0.2439\n",
      "Epoch 126/200\n",
      "3/3 [==============================] - 0s 39ms/step - loss: 1.7875 - accuracy: 0.2439\n",
      "Epoch 127/200\n",
      "3/3 [==============================] - 0s 44ms/step - loss: 1.7876 - accuracy: 0.2439\n",
      "Epoch 128/200\n",
      "3/3 [==============================] - 0s 39ms/step - loss: 1.7872 - accuracy: 0.2439\n",
      "Epoch 129/200\n",
      "3/3 [==============================] - 0s 39ms/step - loss: 1.7873 - accuracy: 0.2439\n",
      "Epoch 130/200\n",
      "3/3 [==============================] - 0s 44ms/step - loss: 1.7875 - accuracy: 0.2439\n",
      "Epoch 131/200\n",
      "3/3 [==============================] - 0s 40ms/step - loss: 1.7869 - accuracy: 0.2439\n",
      "Epoch 132/200\n",
      "3/3 [==============================] - 0s 40ms/step - loss: 1.7868 - accuracy: 0.2439\n",
      "Epoch 133/200\n",
      "3/3 [==============================] - 0s 39ms/step - loss: 1.7865 - accuracy: 0.2439\n",
      "Epoch 134/200\n",
      "3/3 [==============================] - 0s 39ms/step - loss: 1.7866 - accuracy: 0.2439\n",
      "Epoch 135/200\n",
      "3/3 [==============================] - 0s 39ms/step - loss: 1.7861 - accuracy: 0.2439\n",
      "Epoch 136/200\n",
      "3/3 [==============================] - 0s 42ms/step - loss: 1.7862 - accuracy: 0.2439\n",
      "Epoch 137/200\n",
      "3/3 [==============================] - 0s 40ms/step - loss: 1.7860 - accuracy: 0.2439\n",
      "Epoch 138/200\n",
      "3/3 [==============================] - 0s 38ms/step - loss: 1.7860 - accuracy: 0.2439\n",
      "Epoch 139/200\n",
      "3/3 [==============================] - 0s 38ms/step - loss: 1.7860 - accuracy: 0.2439\n",
      "Epoch 140/200\n",
      "3/3 [==============================] - 0s 39ms/step - loss: 1.7861 - accuracy: 0.2439\n",
      "Epoch 141/200\n",
      "3/3 [==============================] - 0s 40ms/step - loss: 1.7856 - accuracy: 0.2439\n",
      "Epoch 142/200\n",
      "3/3 [==============================] - 0s 40ms/step - loss: 1.7855 - accuracy: 0.2439\n",
      "Epoch 143/200\n",
      "3/3 [==============================] - 0s 42ms/step - loss: 1.7850 - accuracy: 0.2439\n",
      "Epoch 144/200\n",
      "3/3 [==============================] - 0s 39ms/step - loss: 1.7851 - accuracy: 0.2439\n",
      "Epoch 145/200\n",
      "3/3 [==============================] - 0s 39ms/step - loss: 1.7848 - accuracy: 0.2439\n",
      "Epoch 146/200\n",
      "3/3 [==============================] - 0s 38ms/step - loss: 1.7849 - accuracy: 0.2439\n",
      "Epoch 147/200\n",
      "3/3 [==============================] - 0s 39ms/step - loss: 1.7850 - accuracy: 0.2439\n",
      "Epoch 148/200\n",
      "3/3 [==============================] - 0s 40ms/step - loss: 1.7847 - accuracy: 0.2439\n",
      "Epoch 149/200\n",
      "3/3 [==============================] - 0s 39ms/step - loss: 1.7849 - accuracy: 0.2439\n",
      "Epoch 150/200\n",
      "3/3 [==============================] - 0s 39ms/step - loss: 1.7849 - accuracy: 0.2439\n",
      "Epoch 151/200\n",
      "3/3 [==============================] - 0s 40ms/step - loss: 1.7843 - accuracy: 0.2439\n",
      "Epoch 152/200\n",
      "3/3 [==============================] - 0s 40ms/step - loss: 1.7844 - accuracy: 0.2439\n",
      "Epoch 153/200\n",
      "3/3 [==============================] - 0s 38ms/step - loss: 1.7844 - accuracy: 0.2439\n",
      "Epoch 154/200\n",
      "3/3 [==============================] - 0s 39ms/step - loss: 1.7845 - accuracy: 0.2439\n",
      "Epoch 155/200\n",
      "3/3 [==============================] - 0s 39ms/step - loss: 1.7841 - accuracy: 0.2439\n",
      "Epoch 156/200\n",
      "3/3 [==============================] - 0s 38ms/step - loss: 1.7842 - accuracy: 0.2439\n",
      "Epoch 157/200\n",
      "3/3 [==============================] - 0s 38ms/step - loss: 1.7844 - accuracy: 0.2439\n",
      "Epoch 158/200\n",
      "3/3 [==============================] - 0s 40ms/step - loss: 1.7836 - accuracy: 0.2439\n",
      "Epoch 159/200\n",
      "3/3 [==============================] - 0s 39ms/step - loss: 1.7841 - accuracy: 0.2439\n",
      "Epoch 160/200\n",
      "3/3 [==============================] - 0s 40ms/step - loss: 1.7837 - accuracy: 0.2439\n",
      "Epoch 161/200\n",
      "3/3 [==============================] - 0s 40ms/step - loss: 1.7836 - accuracy: 0.2439\n",
      "Epoch 162/200\n",
      "3/3 [==============================] - 0s 64ms/step - loss: 1.7837 - accuracy: 0.2439\n",
      "Epoch 163/200\n",
      "3/3 [==============================] - 0s 44ms/step - loss: 1.7831 - accuracy: 0.2439\n",
      "Epoch 164/200\n",
      "3/3 [==============================] - 0s 39ms/step - loss: 1.7832 - accuracy: 0.2439\n",
      "Epoch 165/200\n",
      "3/3 [==============================] - 0s 42ms/step - loss: 1.7831 - accuracy: 0.2439\n",
      "Epoch 166/200\n",
      "3/3 [==============================] - 0s 42ms/step - loss: 1.7830 - accuracy: 0.2439\n",
      "Epoch 167/200\n",
      "3/3 [==============================] - 0s 43ms/step - loss: 1.7830 - accuracy: 0.2439\n",
      "Epoch 168/200\n",
      "3/3 [==============================] - 0s 43ms/step - loss: 1.7831 - accuracy: 0.2439\n",
      "Epoch 169/200\n",
      "3/3 [==============================] - 0s 39ms/step - loss: 1.7827 - accuracy: 0.2439\n",
      "Epoch 170/200\n",
      "3/3 [==============================] - 0s 39ms/step - loss: 1.7825 - accuracy: 0.2439\n",
      "Epoch 171/200\n",
      "3/3 [==============================] - 0s 40ms/step - loss: 1.7830 - accuracy: 0.2439\n",
      "Epoch 172/200\n",
      "3/3 [==============================] - 0s 62ms/step - loss: 1.7826 - accuracy: 0.2439\n",
      "Epoch 173/200\n",
      "3/3 [==============================] - 0s 38ms/step - loss: 1.7825 - accuracy: 0.2439\n",
      "Epoch 174/200\n",
      "3/3 [==============================] - 0s 39ms/step - loss: 1.7825 - accuracy: 0.2439\n",
      "Epoch 175/200\n",
      "3/3 [==============================] - 0s 45ms/step - loss: 1.7822 - accuracy: 0.2439\n",
      "Epoch 176/200\n",
      "3/3 [==============================] - 0s 41ms/step - loss: 1.7822 - accuracy: 0.2439\n",
      "Epoch 177/200\n",
      "3/3 [==============================] - 0s 41ms/step - loss: 1.7822 - accuracy: 0.2439\n",
      "Epoch 178/200\n",
      "3/3 [==============================] - 0s 40ms/step - loss: 1.7820 - accuracy: 0.2439\n",
      "Epoch 179/200\n",
      "3/3 [==============================] - 0s 41ms/step - loss: 1.7821 - accuracy: 0.2439\n",
      "Epoch 180/200\n",
      "3/3 [==============================] - 0s 39ms/step - loss: 1.7821 - accuracy: 0.2439\n",
      "Epoch 181/200\n",
      "3/3 [==============================] - 0s 39ms/step - loss: 1.7825 - accuracy: 0.2439\n",
      "Epoch 182/200\n",
      "3/3 [==============================] - 0s 40ms/step - loss: 1.7818 - accuracy: 0.2439\n",
      "Epoch 183/200\n",
      "3/3 [==============================] - 0s 39ms/step - loss: 1.7824 - accuracy: 0.2439\n",
      "Epoch 184/200\n",
      "3/3 [==============================] - 0s 40ms/step - loss: 1.7822 - accuracy: 0.2439\n",
      "Epoch 185/200\n",
      "3/3 [==============================] - 0s 40ms/step - loss: 1.7822 - accuracy: 0.2439\n",
      "Epoch 186/200\n",
      "3/3 [==============================] - 0s 40ms/step - loss: 1.7818 - accuracy: 0.2439\n",
      "Epoch 187/200\n",
      "3/3 [==============================] - 0s 40ms/step - loss: 1.7830 - accuracy: 0.2439\n",
      "Epoch 188/200\n",
      "3/3 [==============================] - 0s 52ms/step - loss: 1.7816 - accuracy: 0.2439\n",
      "Epoch 189/200\n",
      "3/3 [==============================] - 0s 41ms/step - loss: 1.7818 - accuracy: 0.2439\n",
      "Epoch 190/200\n",
      "3/3 [==============================] - 0s 40ms/step - loss: 1.7817 - accuracy: 0.2439\n",
      "Epoch 191/200\n",
      "3/3 [==============================] - 0s 40ms/step - loss: 1.7817 - accuracy: 0.2439\n",
      "Epoch 192/200\n",
      "3/3 [==============================] - 0s 54ms/step - loss: 1.7816 - accuracy: 0.2439\n",
      "Epoch 193/200\n",
      "3/3 [==============================] - 0s 42ms/step - loss: 1.7816 - accuracy: 0.2439\n",
      "Epoch 194/200\n",
      "3/3 [==============================] - 0s 40ms/step - loss: 1.7814 - accuracy: 0.2439\n",
      "Epoch 195/200\n",
      "3/3 [==============================] - 0s 39ms/step - loss: 1.7814 - accuracy: 0.2439\n",
      "Epoch 196/200\n",
      "3/3 [==============================] - 0s 40ms/step - loss: 1.7815 - accuracy: 0.2439\n",
      "Epoch 197/200\n",
      "3/3 [==============================] - 0s 43ms/step - loss: 1.7814 - accuracy: 0.2439\n",
      "Epoch 198/200\n",
      "3/3 [==============================] - 0s 41ms/step - loss: 1.7812 - accuracy: 0.2439\n",
      "Epoch 199/200\n",
      "3/3 [==============================] - 0s 40ms/step - loss: 1.7811 - accuracy: 0.2439\n",
      "Epoch 200/200\n",
      "3/3 [==============================] - 0s 40ms/step - loss: 1.7808 - accuracy: 0.2439\n"
     ]
    }
   ],
   "source": [
    "history=model.fit(train_x,train_y,epochs=200)"
   ]
  },
  {
   "cell_type": "code",
   "execution_count": 22,
   "metadata": {},
   "outputs": [
    {
     "data": {
      "text/plain": [
       "Text(0.5, 0, 'epoch')"
      ]
     },
     "execution_count": 22,
     "metadata": {},
     "output_type": "execute_result"
    },
    {
     "data": {
      "image/png": "[encoded data removed]",
      "text/plain": [
       "<Figure size 432x288 with 1 Axes>"
      ]
     },
     "metadata": {
      "needs_background": "light"
     },
     "output_type": "display_data"
    }
   ],
   "source": [
    "import matplotlib.pyplot as plt\n",
    "plt.plot(history.history['loss'])\n",
    "plt.plot(history.history['accuracy'])\n",
    "plt.title('model accuracy')\n",
    "plt.legend(['loss','accuracy'],loc='upper left')\n",
    "plt.ylabel('accuracy and loss')\n",
    "plt.xlabel('epoch')"
   ]
  },
  {
   "cell_type": "code",
   "execution_count": null,
   "metadata": {},
   "outputs": [],
   "source": [
    "model.save('chatbot_model.h5')"
   ]
  }
 ],
 "metadata": {
  "interpreter": {
   "hash": "243f9356023684ef385dcb7f6ca56420e07cb28288b5c47e3d6141cb115f2db6"
  },
  "kernelspec": {
   "display_name": "Python 3.9.10 ('base')",
   "language": "python",
   "name": "python3"
  },
  "language_info": {
   "codemirror_mode": {
    "name": "ipython",
    "version": 3
   },
   "file_extension": ".py",
   "mimetype": "text/x-python",
   "name": "python",
   "nbconvert_exporter": "python",
   "pygments_lexer": "ipython3",
   "version": "3.9.10"
  },
  "orig_nbformat": 4
 },
 "nbformat": 4,
 "nbformat_minor": 2
}
